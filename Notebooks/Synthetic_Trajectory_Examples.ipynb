{
 "cells": [
  {
   "cell_type": "markdown",
   "id": "9dc0fa7c",
   "metadata": {},
   "source": [
    "# Script to plot some examples of the new generated trajectories"
   ]
  },
  {
   "cell_type": "code",
   "execution_count": null,
   "id": "592a9e4f",
   "metadata": {},
   "outputs": [],
   "source": [
    "from Framework.DataGeneration.Simulator import FlightSimulation\n",
    "import numpy as np\n",
    "import os"
   ]
  },
  {
   "cell_type": "code",
   "execution_count": null,
   "id": "c1edd880",
   "metadata": {},
   "outputs": [],
   "source": [
    "# get project path and set data directory for notebook\n",
    "PROJECT_DIR = os.getcwd()"
   ]
  },
  {
   "cell_type": "code",
   "execution_count": null,
   "id": "7cbc3f4b",
   "metadata": {},
   "outputs": [],
   "source": [
    "# Select the folder of any high-level intent class for visualization\n",
    "DATA_DIR = os.path.join(PROJECT_DIR, 'ResearchData/perimeter_flight')\n",
    "FLIGHT_FILES = [x for x in os.listdir(DATA_DIR) if x.endswith('csv')]\n",
    "print(f\"Number of files: {len(FLIGHT_FILES)}\")"
   ]
  },
  {
   "cell_type": "code",
   "execution_count": null,
   "id": "313b780d",
   "metadata": {},
   "outputs": [],
   "source": [
    "# Select an arbitrary file from the folder\n",
    "FLIGHT_FILES[1]\n",
    "\n",
    "# Modify the location of the radar to generate different tracks\n",
    "offset_posns = [[0,0], [250,0], [0, 250], [500, 500]]\n",
    "flight_file = FLIGHT_FILES[2]\n",
    "\n",
    "# Create a flight simulator to generate a diverse range of flight trajectories\n",
    "Simulation = FlightSimulation()\n",
    "for posn in offset_posns:\n",
    "    Simulation.simulate_flight(FLIGHT_FILES[2], DATA_DIR, noise_factor=1.0, velocity_coef=0.5,\n",
    "                                     offset_x=0.0, offset_y=0.0, show_radar=True, figsize=(8,4))"
   ]
  }
 ],
 "metadata": {
  "kernelspec": {
   "display_name": "Python 3 (ipykernel)",
   "language": "python",
   "name": "python3"
  },
  "language_info": {
   "codemirror_mode": {
    "name": "ipython",
    "version": 3
   },
   "file_extension": ".py",
   "mimetype": "text/x-python",
   "name": "python",
   "nbconvert_exporter": "python",
   "pygments_lexer": "ipython3",
   "version": "3.9.0"
  }
 },
 "nbformat": 4,
 "nbformat_minor": 5
}
